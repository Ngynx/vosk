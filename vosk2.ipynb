{
 "cells": [
  {
   "cell_type": "code",
   "execution_count": null,
   "metadata": {
    "vscode": {
     "languageId": "plaintext"
    }
   },
   "outputs": [],
   "source": [
    "## review my colab: https://colab.research.google.com/drive/1C_5IIR6RueRPH5ujQDI54KUSKA0n19GR#scrollTo=3aTtBIuybksq"
   ]
  }
 ],
 "metadata": {
  "language_info": {
   "name": "python"
  }
 },
 "nbformat": 4,
 "nbformat_minor": 2
}
